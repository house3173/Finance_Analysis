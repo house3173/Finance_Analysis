{
 "cells": [
  {
   "cell_type": "code",
   "execution_count": 10,
   "metadata": {
    "_cell_guid": "b1076dfc-b9ad-4769-8c92-a6c4dae69d19",
    "_uuid": "8f2839f25d086af736a60e9eeb907d3b93b6e0e5",
    "execution": {
     "iopub.execute_input": "2024-11-06T16:11:14.350447Z",
     "iopub.status.busy": "2024-11-06T16:11:14.349846Z",
     "iopub.status.idle": "2024-11-06T16:11:14.362869Z",
     "shell.execute_reply": "2024-11-06T16:11:14.361074Z",
     "shell.execute_reply.started": "2024-11-06T16:11:14.350394Z"
    },
    "trusted": true
   },
   "outputs": [
    {
     "name": "stdout",
     "output_type": "stream",
     "text": [
      "/kaggle/input/d-liu-ti-chnh-khdl/Bo-tieu-chi-xep-hang-dnnn.xlsx\n",
      "/kaggle/input/d-liu-ti-chnh-khdl/FA-phi-TC-05.06.xlsx\n"
     ]
    }
   ],
   "source": [
    "# This Python 3 environment comes with many helpful analytics libraries installed\n",
    "# It is defined by the kaggle/python Docker image: https://github.com/kaggle/docker-python\n",
    "# For example, here's several helpful packages to load\n",
    "\n",
    "import numpy as np # linear algebra\n",
    "import pandas as pd # data processing, CSV file I/O (e.g. pd.read_csv)\n",
    "\n",
    "# Input data files are available in the read-only \"../input/\" directory\n",
    "# For example, running this (by clicking run or pressing Shift+Enter) will list all files under the input directory\n",
    "\n",
    "import os\n",
    "for dirname, _, filenames in os.walk('/kaggle/input'):\n",
    "    for filename in filenames:\n",
    "        print(os.path.join(dirname, filename))\n",
    "\n",
    "# You can write up to 20GB to the current directory (/kaggle/working/) that gets preserved as output when you create a version using \"Save & Run All\" \n",
    "# You can also write temporary files to /kaggle/temp/, but they won't be saved outside of the current session"
   ]
  },
  {
   "cell_type": "markdown",
   "metadata": {},
   "source": [
    "# **1. Thiết lập ban đầu và nhập thư viện**"
   ]
  },
  {
   "cell_type": "code",
   "execution_count": 11,
   "metadata": {
    "execution": {
     "iopub.execute_input": "2024-11-06T16:11:14.366937Z",
     "iopub.status.busy": "2024-11-06T16:11:14.366149Z",
     "iopub.status.idle": "2024-11-06T16:11:14.376199Z",
     "shell.execute_reply": "2024-11-06T16:11:14.374795Z",
     "shell.execute_reply.started": "2024-11-06T16:11:14.366885Z"
    },
    "trusted": true
   },
   "outputs": [],
   "source": [
    "# Importing necessary libraries\n",
    "import numpy as np\n",
    "import pandas as pd\n",
    "import os"
   ]
  },
  {
   "cell_type": "markdown",
   "metadata": {},
   "source": [
    "# **2. Kiểm tra tệp và đọc dữ liệu**"
   ]
  },
  {
   "cell_type": "code",
   "execution_count": 12,
   "metadata": {
    "execution": {
     "iopub.execute_input": "2024-11-06T16:11:14.378341Z",
     "iopub.status.busy": "2024-11-06T16:11:14.377874Z",
     "iopub.status.idle": "2024-11-06T16:11:14.597788Z",
     "shell.execute_reply": "2024-11-06T16:11:14.596006Z",
     "shell.execute_reply.started": "2024-11-06T16:11:14.378296Z"
    },
    "trusted": true
   },
   "outputs": [],
   "source": [
    "# Define file paths\n",
    "data_file = '/kaggle/input/d-liu-ti-chnh-khdl/FA-phi-TC-05.06.xlsx'\n",
    "criteria_file = '/kaggle/input/d-liu-ti-chnh-khdl/Bo-tieu-chi-xep-hang-dnnn.xlsx'\n",
    "\n",
    "# Load financial data from the 'Year' sheet in FA-phi-TC-05.06.xlsx\n",
    "financial_data_df = pd.read_excel(data_file, sheet_name='Year')\n",
    "\n",
    "# Load criteria data from Bo-tieu-chi-xep-hang-dnnn.xlsx\n",
    "criteria_df = pd.read_excel(criteria_file, sheet_name='Đánh giá xếp hạng DNNN')\n"
   ]
  },
  {
   "cell_type": "markdown",
   "metadata": {},
   "source": [
    "# **3. Xem trước dữ liệu**"
   ]
  },
  {
   "cell_type": "code",
   "execution_count": 13,
   "metadata": {
    "execution": {
     "iopub.execute_input": "2024-11-06T16:11:14.600084Z",
     "iopub.status.busy": "2024-11-06T16:11:14.599611Z",
     "iopub.status.idle": "2024-11-06T16:11:14.638586Z",
     "shell.execute_reply": "2024-11-06T16:11:14.637210Z",
     "shell.execute_reply.started": "2024-11-06T16:11:14.600039Z"
    },
    "trusted": true
   },
   "outputs": [
    {
     "name": "stdout",
     "output_type": "stream",
     "text": [
      "Financial Data Preview:\n",
      "                 Mã CP              PLX    Unnamed: 2       Unnamed: 3  \\\n",
      "0                  NaN             2020           NaN             2021   \n",
      "1                  NaN                0           NaN                0   \n",
      "2       I. CÂN ĐỐI KT        31/12/2020           NaN       31/12/2021   \n",
      "3              TÀI SẢN    Giá trị (trđ)  Tỷ trọng (%)    Giá trị (trđ)   \n",
      "4  A. Tài sản ngắn hạn  37796818.993084      0.618543  41303667.147167   \n",
      "\n",
      "     Unnamed: 4       Unnamed: 5    Unnamed: 6       Unnamed: 7    Unnamed: 8  \\\n",
      "0           NaN             2022           NaN             2023           NaN   \n",
      "1           NaN                0           NaN                0           NaN   \n",
      "2           NaN       31/12/2022           NaN       31/12/2023           NaN   \n",
      "3  Tỷ trọng (%)    Giá trị (trđ)  Tỷ trọng (%)    Giá trị (trđ)  Tỷ trọng (%)   \n",
      "4      0.637488  50170189.581865      0.673646  57306926.231393      0.719253   \n",
      "\n",
      "     Unnamed: 9  ...      Unnamed: 22   Unnamed: 23   Unnamed: 24  \\\n",
      "0  2.023000e+03  ...             2023           NaN  2.022000e+03   \n",
      "1  2.000000e+00  ...                0           NaN  4.000000e+00   \n",
      "2           NaN  ...       31/12/2023           NaN           NaN   \n",
      "3           NaN  ...    Giá trị (trđ)  Tỷ trọng (%)           NaN   \n",
      "4  5.686728e+07  ...  49660611.907033      0.623285  4.501020e+07   \n",
      "\n",
      "    Unnamed: 25   Unnamed: 26   Unnamed: 27      Unnamed: 28   Unnamed: 29  \\\n",
      "0  2.023000e+03  2.023000e+03  2.023000e+03             2024           NaN   \n",
      "1  1.000000e+00  2.000000e+00  3.000000e+00                1           NaN   \n",
      "2           NaN           NaN           NaN      Q1/Năm 2024           NaN   \n",
      "3           NaN           NaN           NaN    Giá trị (trđ)  Tỷ trọng (%)   \n",
      "4  3.925679e+07  5.086644e+07  5.249830e+07  49633736.217195      0.614794   \n",
      "\n",
      "  Unnamed: 30 Unnamed: 31  \n",
      "0         NaN         NaN  \n",
      "1         NaN         NaN  \n",
      "2         NaN         NaN  \n",
      "3         NaN         NaN  \n",
      "4         NaN         NaN  \n",
      "\n",
      "[5 rows x 32 columns]\n",
      "\n",
      "Criteria Data Preview:\n",
      "  ĐÁNH GIÁ HIỆU QUẢ HOẠT ĐỘNG SXKD  \\\n",
      "0                              STT   \n",
      "1                                1   \n",
      "2                                2   \n",
      "3                                2   \n",
      "4                                3   \n",
      "\n",
      "                                          Unnamed: 1  \\\n",
      "0                                       Tên tiêu chí   \n",
      "1                         Tổng doanh thu so kế hoạch   \n",
      "2  Tỷ suất lợi nhuận sau thuế trên vốn chủ sở hữu...   \n",
      "3  Tổng số lỗ phát sinh trong năm báo cáo so kế h...   \n",
      "4                     Khả năng thanh toán nợ đến hạn   \n",
      "\n",
      "                                          Unnamed: 2  \\\n",
      "0                                          Công thức   \n",
      "1  a) Tổng doanh thu/Kế hoạch năm*100\\nb)Tổng sản...   \n",
      "2  (Lợi nhuận sau thuế/ Vốn chủ sở hữu) / Số kế h...   \n",
      "3                          Tổng số lỗ -  Lỗ kế hoạch   \n",
      "4                       Tài sản ngắn hạn/Nợ ngắn hạn   \n",
      "\n",
      "                                  Unnamed: 3  \\\n",
      "0                             Cách tính điểm   \n",
      "1  A: >= 100%\\nB: >= 90% và < 100% \\nC: <90%   \n",
      "2  A: >= 100%\\nB: >= 90% và < 100% \\nC: <90%   \n",
      "3                       A: <0\\nB: = 0\\nC: >0   \n",
      "4            A: >1\\nB: >= 0.5 và <1\\nC: <0.5   \n",
      "\n",
      "                                          Unnamed: 4  \\\n",
      "0                                Ý nghĩa và ứng dụng   \n",
      "1  a) Tổng doanh thu được xác định tại Báo cáo Kế...   \n",
      "2  Tỷ suất lợi nhuận sau thuế trên vốn chủ sở hữu...   \n",
      "3                                                NaN   \n",
      "4                                                NaN   \n",
      "\n",
      "                                          Unnamed: 5  \\\n",
      "0                                 Giải tích tiêu chí   \n",
      "1                                                NaN   \n",
      "2  Doanh nghiệp xếp loại A khi tỷ suất lợi nhuận ...   \n",
      "3  Đối với những doanh nghiệp có lỗ kế hoạch: Nếu...   \n",
      "4  Doanh nghiệp không có nợ phải trả quá hạn và c...   \n",
      "\n",
      "                          Unnamed: 6  \\\n",
      "0  Doanh nghiệp hoạt động kinh doanh   \n",
      "1                                  x   \n",
      "2                                  x   \n",
      "3                                  x   \n",
      "4                                  x   \n",
      "\n",
      "                                          Unnamed: 7  \\\n",
      "0                                                NaN   \n",
      "1  - Xếp loại A: \\n+ Không có chỉ tiêu nào xếp lo...   \n",
      "2                                                NaN   \n",
      "3                                                NaN   \n",
      "4                                                NaN   \n",
      "\n",
      "                                          Unnamed: 8  \\\n",
      "0  Đối với doanh nghiệp trực tiếp phục vụ quốc ph...   \n",
      "1                                                  x   \n",
      "2                                                NaN   \n",
      "3                                                NaN   \n",
      "4                                                  x   \n",
      "\n",
      "                                          Unnamed: 9  \n",
      "0                                                NaN  \n",
      "1  - Xếp loại A: \\n+ Không có chỉ tiêu nào xếp lo...  \n",
      "2                                                NaN  \n",
      "3                                                NaN  \n",
      "4                                                NaN  \n"
     ]
    }
   ],
   "source": [
    "# Display the first few rows of the financial data\n",
    "print(\"Financial Data Preview:\")\n",
    "print(financial_data_df.head())\n",
    "\n",
    "# Display the first few rows of the criteria data\n",
    "print(\"\\nCriteria Data Preview:\")\n",
    "print(criteria_df.head())\n"
   ]
  },
  {
   "cell_type": "markdown",
   "metadata": {},
   "source": [
    "# **4. Giả lập dữ liệu tài chính cho các biến cần thiết (nếu dữ liệu thực tế chưa có)**"
   ]
  },
  {
   "cell_type": "code",
   "execution_count": 14,
   "metadata": {
    "execution": {
     "iopub.execute_input": "2024-11-06T16:12:17.935323Z",
     "iopub.status.busy": "2024-11-06T16:12:17.934842Z",
     "iopub.status.idle": "2024-11-06T16:12:17.948461Z",
     "shell.execute_reply": "2024-11-06T16:12:17.946743Z",
     "shell.execute_reply.started": "2024-11-06T16:12:17.935276Z"
    },
    "trusted": true
   },
   "outputs": [],
   "source": [
    "# Generate placeholder values for key financial metrics in case real columns are not available\n",
    "num_rows = financial_data_df.shape[0]\n",
    "np.random.seed(0)\n",
    "\n",
    "financial_data_df['Revenue_to_Plan'] = np.random.randint(50, 150, size=num_rows)\n",
    "financial_data_df['ROE'] = np.random.randint(40, 150, size=num_rows)\n",
    "financial_data_df['Current_Ratio'] = np.random.uniform(0.2, 1.8, size=num_rows)\n",
    "financial_data_df['D_E_Ratio'] = np.random.uniform(1, 4, size=num_rows)\n"
   ]
  },
  {
   "cell_type": "markdown",
   "metadata": {},
   "source": [
    "# **5. Định nghĩa hàm phân loại rủi ro**"
   ]
  },
  {
   "cell_type": "code",
   "execution_count": 15,
   "metadata": {
    "execution": {
     "iopub.execute_input": "2024-11-06T16:14:42.421940Z",
     "iopub.status.busy": "2024-11-06T16:14:42.421407Z",
     "iopub.status.idle": "2024-11-06T16:14:42.432184Z",
     "shell.execute_reply": "2024-11-06T16:14:42.430629Z",
     "shell.execute_reply.started": "2024-11-06T16:14:42.421894Z"
    },
    "trusted": true
   },
   "outputs": [],
   "source": [
    "# Classification function for risk categories\n",
    "def classify_risk(row):\n",
    "    try:\n",
    "        revenue_ratio = float(row['Revenue_to_Plan'])\n",
    "        roe_ratio = float(row['ROE'])\n",
    "        liquidity_ratio = float(row['Current_Ratio'])\n",
    "        debt_equity_ratio = float(row['D_E_Ratio'])\n",
    "\n",
    "        # Apply classification criteria\n",
    "        if (revenue_ratio >= 100 and roe_ratio >= 100 and liquidity_ratio > 1 and debt_equity_ratio <= 3):\n",
    "            return 'An toàn'\n",
    "        elif (90 <= revenue_ratio < 100 and 90 <= roe_ratio < 100 and 0.5 <= liquidity_ratio <= 1 and debt_equity_ratio <= 3):\n",
    "            return 'Rủi ro thấp'\n",
    "        else:\n",
    "            return 'Rủi ro cao'\n",
    "    except ValueError:\n",
    "        return 'Dữ liệu không hợp lệ'\n"
   ]
  },
  {
   "cell_type": "markdown",
   "metadata": {},
   "source": [
    "# **6. Áp dụng hàm phân loại rủi ro**"
   ]
  },
  {
   "cell_type": "code",
   "execution_count": 16,
   "metadata": {
    "execution": {
     "iopub.execute_input": "2024-11-06T16:15:15.341250Z",
     "iopub.status.busy": "2024-11-06T16:15:15.340695Z",
     "iopub.status.idle": "2024-11-06T16:15:15.351849Z",
     "shell.execute_reply": "2024-11-06T16:15:15.350143Z",
     "shell.execute_reply.started": "2024-11-06T16:15:15.341202Z"
    },
    "trusted": true
   },
   "outputs": [],
   "source": [
    "# Apply the classification function to each row in the DataFrame\n",
    "financial_data_df['Risk_Category'] = financial_data_df.apply(classify_risk, axis=1)"
   ]
  },
  {
   "cell_type": "markdown",
   "metadata": {},
   "source": [
    "# **7. Hiển thị kết quả phân loại**"
   ]
  },
  {
   "cell_type": "code",
   "execution_count": 17,
   "metadata": {
    "execution": {
     "iopub.execute_input": "2024-11-06T16:15:52.810335Z",
     "iopub.status.busy": "2024-11-06T16:15:52.809830Z",
     "iopub.status.idle": "2024-11-06T16:15:52.837700Z",
     "shell.execute_reply": "2024-11-06T16:15:52.836432Z",
     "shell.execute_reply.started": "2024-11-06T16:15:52.810289Z"
    },
    "trusted": true
   },
   "outputs": [
    {
     "name": "stdout",
     "output_type": "stream",
     "text": [
      "Classification Results:\n"
     ]
    },
    {
     "data": {
      "text/html": [
       "<div>\n",
       "<style scoped>\n",
       "    .dataframe tbody tr th:only-of-type {\n",
       "        vertical-align: middle;\n",
       "    }\n",
       "\n",
       "    .dataframe tbody tr th {\n",
       "        vertical-align: top;\n",
       "    }\n",
       "\n",
       "    .dataframe thead th {\n",
       "        text-align: right;\n",
       "    }\n",
       "</style>\n",
       "<table border=\"1\" class=\"dataframe\">\n",
       "  <thead>\n",
       "    <tr style=\"text-align: right;\">\n",
       "      <th></th>\n",
       "      <th>Revenue_to_Plan</th>\n",
       "      <th>ROE</th>\n",
       "      <th>Current_Ratio</th>\n",
       "      <th>D_E_Ratio</th>\n",
       "      <th>Risk_Category</th>\n",
       "    </tr>\n",
       "  </thead>\n",
       "  <tbody>\n",
       "    <tr>\n",
       "      <th>0</th>\n",
       "      <td>94</td>\n",
       "      <td>59</td>\n",
       "      <td>0.536612</td>\n",
       "      <td>2.699804</td>\n",
       "      <td>Rủi ro cao</td>\n",
       "    </tr>\n",
       "    <tr>\n",
       "      <th>1</th>\n",
       "      <td>97</td>\n",
       "      <td>54</td>\n",
       "      <td>0.406282</td>\n",
       "      <td>1.796168</td>\n",
       "      <td>Rủi ro cao</td>\n",
       "    </tr>\n",
       "    <tr>\n",
       "      <th>2</th>\n",
       "      <td>114</td>\n",
       "      <td>79</td>\n",
       "      <td>0.704685</td>\n",
       "      <td>2.569744</td>\n",
       "      <td>Rủi ro cao</td>\n",
       "    </tr>\n",
       "    <tr>\n",
       "      <th>3</th>\n",
       "      <td>117</td>\n",
       "      <td>72</td>\n",
       "      <td>0.781937</td>\n",
       "      <td>1.281822</td>\n",
       "      <td>Rủi ro cao</td>\n",
       "    </tr>\n",
       "    <tr>\n",
       "      <th>4</th>\n",
       "      <td>117</td>\n",
       "      <td>105</td>\n",
       "      <td>1.112315</td>\n",
       "      <td>2.727839</td>\n",
       "      <td>An toàn</td>\n",
       "    </tr>\n",
       "    <tr>\n",
       "      <th>5</th>\n",
       "      <td>59</td>\n",
       "      <td>49</td>\n",
       "      <td>0.901762</td>\n",
       "      <td>3.787889</td>\n",
       "      <td>Rủi ro cao</td>\n",
       "    </tr>\n",
       "    <tr>\n",
       "      <th>6</th>\n",
       "      <td>133</td>\n",
       "      <td>97</td>\n",
       "      <td>1.781398</td>\n",
       "      <td>1.955707</td>\n",
       "      <td>Rủi ro cao</td>\n",
       "    </tr>\n",
       "    <tr>\n",
       "      <th>7</th>\n",
       "      <td>71</td>\n",
       "      <td>72</td>\n",
       "      <td>0.363272</td>\n",
       "      <td>3.002231</td>\n",
       "      <td>Rủi ro cao</td>\n",
       "    </tr>\n",
       "    <tr>\n",
       "      <th>8</th>\n",
       "      <td>86</td>\n",
       "      <td>71</td>\n",
       "      <td>0.534203</td>\n",
       "      <td>1.395394</td>\n",
       "      <td>Rủi ro cao</td>\n",
       "    </tr>\n",
       "    <tr>\n",
       "      <th>9</th>\n",
       "      <td>137</td>\n",
       "      <td>114</td>\n",
       "      <td>0.458095</td>\n",
       "      <td>3.148982</td>\n",
       "      <td>Rủi ro cao</td>\n",
       "    </tr>\n",
       "  </tbody>\n",
       "</table>\n",
       "</div>"
      ],
      "text/plain": [
       "   Revenue_to_Plan  ROE  Current_Ratio  D_E_Ratio Risk_Category\n",
       "0               94   59       0.536612   2.699804    Rủi ro cao\n",
       "1               97   54       0.406282   1.796168    Rủi ro cao\n",
       "2              114   79       0.704685   2.569744    Rủi ro cao\n",
       "3              117   72       0.781937   1.281822    Rủi ro cao\n",
       "4              117  105       1.112315   2.727839       An toàn\n",
       "5               59   49       0.901762   3.787889    Rủi ro cao\n",
       "6              133   97       1.781398   1.955707    Rủi ro cao\n",
       "7               71   72       0.363272   3.002231    Rủi ro cao\n",
       "8               86   71       0.534203   1.395394    Rủi ro cao\n",
       "9              137  114       0.458095   3.148982    Rủi ro cao"
      ]
     },
     "execution_count": 17,
     "metadata": {},
     "output_type": "execute_result"
    }
   ],
   "source": [
    "# Display the results with classification\n",
    "print(\"Classification Results:\")\n",
    "financial_data_df[['Revenue_to_Plan', 'ROE', 'Current_Ratio', 'D_E_Ratio', 'Risk_Category']].head(10)\n"
   ]
  },
  {
   "cell_type": "markdown",
   "metadata": {},
   "source": [
    "# **8. Xuất kết quả ra file CSV**"
   ]
  },
  {
   "cell_type": "code",
   "execution_count": 18,
   "metadata": {
    "execution": {
     "iopub.execute_input": "2024-11-06T16:16:52.365650Z",
     "iopub.status.busy": "2024-11-06T16:16:52.365142Z",
     "iopub.status.idle": "2024-11-06T16:16:52.383511Z",
     "shell.execute_reply": "2024-11-06T16:16:52.382158Z",
     "shell.execute_reply.started": "2024-11-06T16:16:52.365608Z"
    },
    "trusted": true
   },
   "outputs": [
    {
     "name": "stdout",
     "output_type": "stream",
     "text": [
      "Classification results saved to /kaggle/working/financial_risk_classification.csv\n"
     ]
    }
   ],
   "source": [
    "# Exporting the classification results to a CSV file\n",
    "output_file = '/kaggle/working/financial_risk_classification.csv'\n",
    "financial_data_df.to_csv(output_file, index=False)\n",
    "print(f\"Classification results saved to {output_file}\")"
   ]
  },
  {
   "cell_type": "markdown",
   "metadata": {},
   "source": []
  },
  {
   "cell_type": "code",
   "execution_count": 3,
   "metadata": {},
   "outputs": [
    {
     "name": "stdout",
     "output_type": "stream",
     "text": [
      "Number of rows in the classification results: 1371980\n"
     ]
    }
   ],
   "source": [
    "# Read file csv and count number of rows\n",
    "import pandas as pd\n",
    "output_file = 'C:/Users/ADMIN/Downloads/dev_submission.csv'\n",
    "df = pd.read_csv(output_file)\n",
    "print(\"Number of rows in the classification results:\", df.shape[0])"
   ]
  },
  {
   "cell_type": "code",
   "execution_count": null,
   "metadata": {},
   "outputs": [],
   "source": []
  }
 ],
 "metadata": {
  "kaggle": {
   "accelerator": "none",
   "dataSources": [
    {
     "datasetId": 6025755,
     "sourceId": 9826048,
     "sourceType": "datasetVersion"
    }
   ],
   "dockerImageVersionId": 30786,
   "isGpuEnabled": false,
   "isInternetEnabled": false,
   "language": "python",
   "sourceType": "notebook"
  },
  "kernelspec": {
   "display_name": "Python 3",
   "language": "python",
   "name": "python3"
  },
  "language_info": {
   "codemirror_mode": {
    "name": "ipython",
    "version": 3
   },
   "file_extension": ".py",
   "mimetype": "text/x-python",
   "name": "python",
   "nbconvert_exporter": "python",
   "pygments_lexer": "ipython3",
   "version": "3.11.6"
  }
 },
 "nbformat": 4,
 "nbformat_minor": 4
}
